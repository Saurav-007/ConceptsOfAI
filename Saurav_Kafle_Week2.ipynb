{
  "nbformat": 4,
  "nbformat_minor": 0,
  "metadata": {
    "colab": {
      "provenance": []
    },
    "kernelspec": {
      "name": "python3",
      "display_name": "Python 3"
    },
    "language_info": {
      "name": "python"
    }
  },
  "cells": [
    {
      "cell_type": "markdown",
      "source": [
        "1.DataStructure-**Series**"
      ],
      "metadata": {
        "id": "N_0SD0GpH14g"
      }
    },
    {
      "cell_type": "code",
      "source": [
        "import pandas as pd\n",
        "#CreatingasimpleSeries\n",
        "data= [10,20,30,40]\n",
        "series =pd.Series(data)\n",
        "print(series)"
      ],
      "metadata": {
        "colab": {
          "base_uri": "https://localhost:8080/"
        },
        "id": "wMGY6fDNH4hC",
        "outputId": "2bec659d-5052-48b0-ebe8-0f46a0327e27"
      },
      "execution_count": 10,
      "outputs": [
        {
          "output_type": "stream",
          "name": "stdout",
          "text": [
            "0    10\n",
            "1    20\n",
            "2    30\n",
            "3    40\n",
            "dtype: int64\n"
          ]
        }
      ]
    },
    {
      "cell_type": "code",
      "source": [
        "from google.colab import drive\n",
        "drive.mount('/content/drive')"
      ],
      "metadata": {
        "colab": {
          "base_uri": "https://localhost:8080/"
        },
        "id": "8ps3ATv3_tiy",
        "outputId": "4536620f-130b-4ca3-dc14-fe88a23d464e"
      },
      "execution_count": 2,
      "outputs": [
        {
          "output_type": "stream",
          "name": "stdout",
          "text": [
            "Mounted at /content/drive\n"
          ]
        }
      ]
    },
    {
      "cell_type": "markdown",
      "source": [
        "2.DataStructure-**Index**"
      ],
      "metadata": {
        "id": "6UR5FwjnISQH"
      }
    },
    {
      "cell_type": "code",
      "source": [
        " #DefaultIndex\n",
        "import pandas as pd\n",
        "series =pd.Series([10,20,30])\n",
        "print(series.index)\n",
        "#Output:RangeIndex(start=0,stop=3,step=1)\n",
        "#User Defined:\n",
        "series =pd.Series([10,20,30],index=['a','b','c'])\n",
        "print(series)\n",
        "#Output:\n",
        "#a10\n",
        "#b20\n",
        "#c30\n",
        "#datestimeindex\n",
        "dates=pd.date_range('2023-01-01',periods=3)\n",
        "series =pd.Series([10,20,30],index=dates)\n",
        "print(series)\n",
        "#Output:\n",
        "#2023-01-0110\n",
        "#2023-01-0220\n",
        "#2023-01-0330\n",
        "#Access\n",
        "print(series.index)\n",
        "#SetorResetIndex\n",
        "series.index=['x','y','z']#Series\n",
        "#ForDataFrame\n",
        "df=pd.DataFrame({'A':[1,2]},index=['row1','row2'])\n",
        "df.reset_index(inplace=True)\n",
        "#Convertstheindexintoacolumn"
      ],
      "metadata": {
        "colab": {
          "base_uri": "https://localhost:8080/"
        },
        "id": "ltLGRql7IX4_",
        "outputId": "0fd82dd1-f638-4793-aa17-64048f53b443"
      },
      "execution_count": 11,
      "outputs": [
        {
          "output_type": "stream",
          "name": "stdout",
          "text": [
            "RangeIndex(start=0, stop=3, step=1)\n",
            "a    10\n",
            "b    20\n",
            "c    30\n",
            "dtype: int64\n",
            "2023-01-01    10\n",
            "2023-01-02    20\n",
            "2023-01-03    30\n",
            "Freq: D, dtype: int64\n",
            "DatetimeIndex(['2023-01-01', '2023-01-02', '2023-01-03'], dtype='datetime64[ns]', freq='D')\n"
          ]
        }
      ]
    },
    {
      "cell_type": "markdown",
      "source": [
        "3.DataStructure-**DataFrames**"
      ],
      "metadata": {
        "id": "bfCMcs7qJd-T"
      }
    },
    {
      "cell_type": "code",
      "source": [
        " #Transformingin-builtdatastructures-DataFrame\n",
        " #Style-1\n",
        "import pandas as pd\n",
        "pd.DataFrame({'Bob':['Ilikedit.','Itwasawful'],'Sue':['Prettygood.','Bland.']})\n",
        "#Style-2\n",
        "pd.DataFrame({'Bob':['Ilikedit.','Itwasawful.'],'Sue':['Prettygood.''Bland.']},\n",
        "index=['ProductA','ProductB'])"
      ],
      "metadata": {
        "colab": {
          "base_uri": "https://localhost:8080/",
          "height": 112
        },
        "id": "bmsX-vv1Jfky",
        "outputId": "0846e00f-2040-4e52-af7a-491b2ee1db32"
      },
      "execution_count": null,
      "outputs": [
        {
          "output_type": "execute_result",
          "data": {
            "text/plain": [
              "                  Bob                Sue\n",
              "ProductA    Ilikedit.  Prettygood.Bland.\n",
              "ProductB  Itwasawful.  Prettygood.Bland."
            ],
            "text/html": [
              "\n",
              "  <div id=\"df-6e9d7c69-7c82-41d7-a9d3-612f6c9c5e80\" class=\"colab-df-container\">\n",
              "    <div>\n",
              "<style scoped>\n",
              "    .dataframe tbody tr th:only-of-type {\n",
              "        vertical-align: middle;\n",
              "    }\n",
              "\n",
              "    .dataframe tbody tr th {\n",
              "        vertical-align: top;\n",
              "    }\n",
              "\n",
              "    .dataframe thead th {\n",
              "        text-align: right;\n",
              "    }\n",
              "</style>\n",
              "<table border=\"1\" class=\"dataframe\">\n",
              "  <thead>\n",
              "    <tr style=\"text-align: right;\">\n",
              "      <th></th>\n",
              "      <th>Bob</th>\n",
              "      <th>Sue</th>\n",
              "    </tr>\n",
              "  </thead>\n",
              "  <tbody>\n",
              "    <tr>\n",
              "      <th>ProductA</th>\n",
              "      <td>Ilikedit.</td>\n",
              "      <td>Prettygood.Bland.</td>\n",
              "    </tr>\n",
              "    <tr>\n",
              "      <th>ProductB</th>\n",
              "      <td>Itwasawful.</td>\n",
              "      <td>Prettygood.Bland.</td>\n",
              "    </tr>\n",
              "  </tbody>\n",
              "</table>\n",
              "</div>\n",
              "    <div class=\"colab-df-buttons\">\n",
              "\n",
              "  <div class=\"colab-df-container\">\n",
              "    <button class=\"colab-df-convert\" onclick=\"convertToInteractive('df-6e9d7c69-7c82-41d7-a9d3-612f6c9c5e80')\"\n",
              "            title=\"Convert this dataframe to an interactive table.\"\n",
              "            style=\"display:none;\">\n",
              "\n",
              "  <svg xmlns=\"http://www.w3.org/2000/svg\" height=\"24px\" viewBox=\"0 -960 960 960\">\n",
              "    <path d=\"M120-120v-720h720v720H120Zm60-500h600v-160H180v160Zm220 220h160v-160H400v160Zm0 220h160v-160H400v160ZM180-400h160v-160H180v160Zm440 0h160v-160H620v160ZM180-180h160v-160H180v160Zm440 0h160v-160H620v160Z\"/>\n",
              "  </svg>\n",
              "    </button>\n",
              "\n",
              "  <style>\n",
              "    .colab-df-container {\n",
              "      display:flex;\n",
              "      gap: 12px;\n",
              "    }\n",
              "\n",
              "    .colab-df-convert {\n",
              "      background-color: #E8F0FE;\n",
              "      border: none;\n",
              "      border-radius: 50%;\n",
              "      cursor: pointer;\n",
              "      display: none;\n",
              "      fill: #1967D2;\n",
              "      height: 32px;\n",
              "      padding: 0 0 0 0;\n",
              "      width: 32px;\n",
              "    }\n",
              "\n",
              "    .colab-df-convert:hover {\n",
              "      background-color: #E2EBFA;\n",
              "      box-shadow: 0px 1px 2px rgba(60, 64, 67, 0.3), 0px 1px 3px 1px rgba(60, 64, 67, 0.15);\n",
              "      fill: #174EA6;\n",
              "    }\n",
              "\n",
              "    .colab-df-buttons div {\n",
              "      margin-bottom: 4px;\n",
              "    }\n",
              "\n",
              "    [theme=dark] .colab-df-convert {\n",
              "      background-color: #3B4455;\n",
              "      fill: #D2E3FC;\n",
              "    }\n",
              "\n",
              "    [theme=dark] .colab-df-convert:hover {\n",
              "      background-color: #434B5C;\n",
              "      box-shadow: 0px 1px 3px 1px rgba(0, 0, 0, 0.15);\n",
              "      filter: drop-shadow(0px 1px 2px rgba(0, 0, 0, 0.3));\n",
              "      fill: #FFFFFF;\n",
              "    }\n",
              "  </style>\n",
              "\n",
              "    <script>\n",
              "      const buttonEl =\n",
              "        document.querySelector('#df-6e9d7c69-7c82-41d7-a9d3-612f6c9c5e80 button.colab-df-convert');\n",
              "      buttonEl.style.display =\n",
              "        google.colab.kernel.accessAllowed ? 'block' : 'none';\n",
              "\n",
              "      async function convertToInteractive(key) {\n",
              "        const element = document.querySelector('#df-6e9d7c69-7c82-41d7-a9d3-612f6c9c5e80');\n",
              "        const dataTable =\n",
              "          await google.colab.kernel.invokeFunction('convertToInteractive',\n",
              "                                                    [key], {});\n",
              "        if (!dataTable) return;\n",
              "\n",
              "        const docLinkHtml = 'Like what you see? Visit the ' +\n",
              "          '<a target=\"_blank\" href=https://colab.research.google.com/notebooks/data_table.ipynb>data table notebook</a>'\n",
              "          + ' to learn more about interactive tables.';\n",
              "        element.innerHTML = '';\n",
              "        dataTable['output_type'] = 'display_data';\n",
              "        await google.colab.output.renderOutput(dataTable, element);\n",
              "        const docLink = document.createElement('div');\n",
              "        docLink.innerHTML = docLinkHtml;\n",
              "        element.appendChild(docLink);\n",
              "      }\n",
              "    </script>\n",
              "  </div>\n",
              "\n",
              "\n",
              "<div id=\"df-5070f292-2929-4365-9e84-6f7a01a515b5\">\n",
              "  <button class=\"colab-df-quickchart\" onclick=\"quickchart('df-5070f292-2929-4365-9e84-6f7a01a515b5')\"\n",
              "            title=\"Suggest charts\"\n",
              "            style=\"display:none;\">\n",
              "\n",
              "<svg xmlns=\"http://www.w3.org/2000/svg\" height=\"24px\"viewBox=\"0 0 24 24\"\n",
              "     width=\"24px\">\n",
              "    <g>\n",
              "        <path d=\"M19 3H5c-1.1 0-2 .9-2 2v14c0 1.1.9 2 2 2h14c1.1 0 2-.9 2-2V5c0-1.1-.9-2-2-2zM9 17H7v-7h2v7zm4 0h-2V7h2v10zm4 0h-2v-4h2v4z\"/>\n",
              "    </g>\n",
              "</svg>\n",
              "  </button>\n",
              "\n",
              "<style>\n",
              "  .colab-df-quickchart {\n",
              "      --bg-color: #E8F0FE;\n",
              "      --fill-color: #1967D2;\n",
              "      --hover-bg-color: #E2EBFA;\n",
              "      --hover-fill-color: #174EA6;\n",
              "      --disabled-fill-color: #AAA;\n",
              "      --disabled-bg-color: #DDD;\n",
              "  }\n",
              "\n",
              "  [theme=dark] .colab-df-quickchart {\n",
              "      --bg-color: #3B4455;\n",
              "      --fill-color: #D2E3FC;\n",
              "      --hover-bg-color: #434B5C;\n",
              "      --hover-fill-color: #FFFFFF;\n",
              "      --disabled-bg-color: #3B4455;\n",
              "      --disabled-fill-color: #666;\n",
              "  }\n",
              "\n",
              "  .colab-df-quickchart {\n",
              "    background-color: var(--bg-color);\n",
              "    border: none;\n",
              "    border-radius: 50%;\n",
              "    cursor: pointer;\n",
              "    display: none;\n",
              "    fill: var(--fill-color);\n",
              "    height: 32px;\n",
              "    padding: 0;\n",
              "    width: 32px;\n",
              "  }\n",
              "\n",
              "  .colab-df-quickchart:hover {\n",
              "    background-color: var(--hover-bg-color);\n",
              "    box-shadow: 0 1px 2px rgba(60, 64, 67, 0.3), 0 1px 3px 1px rgba(60, 64, 67, 0.15);\n",
              "    fill: var(--button-hover-fill-color);\n",
              "  }\n",
              "\n",
              "  .colab-df-quickchart-complete:disabled,\n",
              "  .colab-df-quickchart-complete:disabled:hover {\n",
              "    background-color: var(--disabled-bg-color);\n",
              "    fill: var(--disabled-fill-color);\n",
              "    box-shadow: none;\n",
              "  }\n",
              "\n",
              "  .colab-df-spinner {\n",
              "    border: 2px solid var(--fill-color);\n",
              "    border-color: transparent;\n",
              "    border-bottom-color: var(--fill-color);\n",
              "    animation:\n",
              "      spin 1s steps(1) infinite;\n",
              "  }\n",
              "\n",
              "  @keyframes spin {\n",
              "    0% {\n",
              "      border-color: transparent;\n",
              "      border-bottom-color: var(--fill-color);\n",
              "      border-left-color: var(--fill-color);\n",
              "    }\n",
              "    20% {\n",
              "      border-color: transparent;\n",
              "      border-left-color: var(--fill-color);\n",
              "      border-top-color: var(--fill-color);\n",
              "    }\n",
              "    30% {\n",
              "      border-color: transparent;\n",
              "      border-left-color: var(--fill-color);\n",
              "      border-top-color: var(--fill-color);\n",
              "      border-right-color: var(--fill-color);\n",
              "    }\n",
              "    40% {\n",
              "      border-color: transparent;\n",
              "      border-right-color: var(--fill-color);\n",
              "      border-top-color: var(--fill-color);\n",
              "    }\n",
              "    60% {\n",
              "      border-color: transparent;\n",
              "      border-right-color: var(--fill-color);\n",
              "    }\n",
              "    80% {\n",
              "      border-color: transparent;\n",
              "      border-right-color: var(--fill-color);\n",
              "      border-bottom-color: var(--fill-color);\n",
              "    }\n",
              "    90% {\n",
              "      border-color: transparent;\n",
              "      border-bottom-color: var(--fill-color);\n",
              "    }\n",
              "  }\n",
              "</style>\n",
              "\n",
              "  <script>\n",
              "    async function quickchart(key) {\n",
              "      const quickchartButtonEl =\n",
              "        document.querySelector('#' + key + ' button');\n",
              "      quickchartButtonEl.disabled = true;  // To prevent multiple clicks.\n",
              "      quickchartButtonEl.classList.add('colab-df-spinner');\n",
              "      try {\n",
              "        const charts = await google.colab.kernel.invokeFunction(\n",
              "            'suggestCharts', [key], {});\n",
              "      } catch (error) {\n",
              "        console.error('Error during call to suggestCharts:', error);\n",
              "      }\n",
              "      quickchartButtonEl.classList.remove('colab-df-spinner');\n",
              "      quickchartButtonEl.classList.add('colab-df-quickchart-complete');\n",
              "    }\n",
              "    (() => {\n",
              "      let quickchartButtonEl =\n",
              "        document.querySelector('#df-5070f292-2929-4365-9e84-6f7a01a515b5 button');\n",
              "      quickchartButtonEl.style.display =\n",
              "        google.colab.kernel.accessAllowed ? 'block' : 'none';\n",
              "    })();\n",
              "  </script>\n",
              "</div>\n",
              "\n",
              "    </div>\n",
              "  </div>\n"
            ],
            "application/vnd.google.colaboratory.intrinsic+json": {
              "type": "dataframe",
              "summary": "{\n  \"name\": \"index=['ProductA','ProductB'])\",\n  \"rows\": 2,\n  \"fields\": [\n    {\n      \"column\": \"Bob\",\n      \"properties\": {\n        \"dtype\": \"string\",\n        \"num_unique_values\": 2,\n        \"samples\": [\n          \"Itwasawful.\",\n          \"Ilikedit.\"\n        ],\n        \"semantic_type\": \"\",\n        \"description\": \"\"\n      }\n    },\n    {\n      \"column\": \"Sue\",\n      \"properties\": {\n        \"dtype\": \"string\",\n        \"num_unique_values\": 1,\n        \"samples\": [\n          \"Prettygood.Bland.\"\n        ],\n        \"semantic_type\": \"\",\n        \"description\": \"\"\n      }\n    }\n  ]\n}"
            }
          },
          "metadata": {},
          "execution_count": 22
        }
      ]
    },
    {
      "cell_type": "markdown",
      "source": [
        " 4.DataFrames-**LoadingDatatoDataFrames**"
      ],
      "metadata": {
        "id": "O29RfLHQL0G4"
      }
    },
    {
      "cell_type": "code",
      "source": [
        " #ImportingDatafromfile\n",
        "import pandas as pd\n",
        "#path toyourdatasetmustbegiventobuiltinread_csv(\"Yourpath\")function.\n",
        "dataset=pd.read_csv(\"/content/drive/MyDrive/week2/Datasets/Datasets/bank .csv\")\n",
        "dataset.head()\n",
        "dataset.tail()\n",
        "dataset.info()"
      ],
      "metadata": {
        "colab": {
          "base_uri": "https://localhost:8080/"
        },
        "id": "nE-uINPgL27F",
        "outputId": "eddecadf-2967-42e9-ae97-3bf74c5a1b30"
      },
      "execution_count": 9,
      "outputs": [
        {
          "output_type": "stream",
          "name": "stdout",
          "text": [
            "<class 'pandas.core.frame.DataFrame'>\n",
            "RangeIndex: 45211 entries, 0 to 45210\n",
            "Data columns (total 17 columns):\n",
            " #   Column     Non-Null Count  Dtype \n",
            "---  ------     --------------  ----- \n",
            " 0   age        45211 non-null  int64 \n",
            " 1   job        45211 non-null  object\n",
            " 2   marital    45211 non-null  object\n",
            " 3   education  45211 non-null  object\n",
            " 4   default    45211 non-null  object\n",
            " 5   balance    45211 non-null  int64 \n",
            " 6   housing    45211 non-null  object\n",
            " 7   loan       45211 non-null  object\n",
            " 8   contact    45211 non-null  object\n",
            " 9   day        45211 non-null  int64 \n",
            " 10  month      45211 non-null  object\n",
            " 11  duration   45211 non-null  int64 \n",
            " 12  campaign   45211 non-null  int64 \n",
            " 13  pdays      45211 non-null  int64 \n",
            " 14  previous   45211 non-null  int64 \n",
            " 15  poutcome   45211 non-null  object\n",
            " 16  y          45211 non-null  object\n",
            "dtypes: int64(7), object(10)\n",
            "memory usage: 5.9+ MB\n"
          ]
        }
      ]
    },
    {
      "cell_type": "code",
      "source": [
        "from google.colab import drive\n",
        "drive.mount('/content/drive')"
      ],
      "metadata": {
        "id": "GPsbz8RpAv0k"
      },
      "execution_count": null,
      "outputs": []
    },
    {
      "cell_type": "markdown",
      "source": [
        "5.DataFrames-WritingDataFramestoCSV.**bold text**"
      ],
      "metadata": {
        "id": "QWxy1PwWM1Sf"
      }
    },
    {
      "cell_type": "code",
      "source": [
        "#ImportingDatafromfile\n",
        "import pandas as pd\n",
        "data= {'Name':['Alice','Bob','Charlie'],'City':['NewYork','SanFrancisco','LosAngeles']}\n",
        "df=pd.DataFrame(data)#creatingaDataFrame\n",
        "#WritingDataFrame tocsv.\n",
        "df.to_csv('output.csv',index=False)\n",
        "df\n"
      ],
      "metadata": {
        "colab": {
          "base_uri": "https://localhost:8080/",
          "height": 143
        },
        "id": "AeLBUkUuM3Jv",
        "outputId": "fd4ebd0e-6223-40c0-9c54-d528d0847d74"
      },
      "execution_count": null,
      "outputs": [
        {
          "output_type": "execute_result",
          "data": {
            "text/plain": [
              "      Name          City\n",
              "0    Alice       NewYork\n",
              "1      Bob  SanFrancisco\n",
              "2  Charlie    LosAngeles"
            ],
            "text/html": [
              "\n",
              "  <div id=\"df-8fa58519-2c9f-4c48-aaa6-20145134f94f\" class=\"colab-df-container\">\n",
              "    <div>\n",
              "<style scoped>\n",
              "    .dataframe tbody tr th:only-of-type {\n",
              "        vertical-align: middle;\n",
              "    }\n",
              "\n",
              "    .dataframe tbody tr th {\n",
              "        vertical-align: top;\n",
              "    }\n",
              "\n",
              "    .dataframe thead th {\n",
              "        text-align: right;\n",
              "    }\n",
              "</style>\n",
              "<table border=\"1\" class=\"dataframe\">\n",
              "  <thead>\n",
              "    <tr style=\"text-align: right;\">\n",
              "      <th></th>\n",
              "      <th>Name</th>\n",
              "      <th>City</th>\n",
              "    </tr>\n",
              "  </thead>\n",
              "  <tbody>\n",
              "    <tr>\n",
              "      <th>0</th>\n",
              "      <td>Alice</td>\n",
              "      <td>NewYork</td>\n",
              "    </tr>\n",
              "    <tr>\n",
              "      <th>1</th>\n",
              "      <td>Bob</td>\n",
              "      <td>SanFrancisco</td>\n",
              "    </tr>\n",
              "    <tr>\n",
              "      <th>2</th>\n",
              "      <td>Charlie</td>\n",
              "      <td>LosAngeles</td>\n",
              "    </tr>\n",
              "  </tbody>\n",
              "</table>\n",
              "</div>\n",
              "    <div class=\"colab-df-buttons\">\n",
              "\n",
              "  <div class=\"colab-df-container\">\n",
              "    <button class=\"colab-df-convert\" onclick=\"convertToInteractive('df-8fa58519-2c9f-4c48-aaa6-20145134f94f')\"\n",
              "            title=\"Convert this dataframe to an interactive table.\"\n",
              "            style=\"display:none;\">\n",
              "\n",
              "  <svg xmlns=\"http://www.w3.org/2000/svg\" height=\"24px\" viewBox=\"0 -960 960 960\">\n",
              "    <path d=\"M120-120v-720h720v720H120Zm60-500h600v-160H180v160Zm220 220h160v-160H400v160Zm0 220h160v-160H400v160ZM180-400h160v-160H180v160Zm440 0h160v-160H620v160ZM180-180h160v-160H180v160Zm440 0h160v-160H620v160Z\"/>\n",
              "  </svg>\n",
              "    </button>\n",
              "\n",
              "  <style>\n",
              "    .colab-df-container {\n",
              "      display:flex;\n",
              "      gap: 12px;\n",
              "    }\n",
              "\n",
              "    .colab-df-convert {\n",
              "      background-color: #E8F0FE;\n",
              "      border: none;\n",
              "      border-radius: 50%;\n",
              "      cursor: pointer;\n",
              "      display: none;\n",
              "      fill: #1967D2;\n",
              "      height: 32px;\n",
              "      padding: 0 0 0 0;\n",
              "      width: 32px;\n",
              "    }\n",
              "\n",
              "    .colab-df-convert:hover {\n",
              "      background-color: #E2EBFA;\n",
              "      box-shadow: 0px 1px 2px rgba(60, 64, 67, 0.3), 0px 1px 3px 1px rgba(60, 64, 67, 0.15);\n",
              "      fill: #174EA6;\n",
              "    }\n",
              "\n",
              "    .colab-df-buttons div {\n",
              "      margin-bottom: 4px;\n",
              "    }\n",
              "\n",
              "    [theme=dark] .colab-df-convert {\n",
              "      background-color: #3B4455;\n",
              "      fill: #D2E3FC;\n",
              "    }\n",
              "\n",
              "    [theme=dark] .colab-df-convert:hover {\n",
              "      background-color: #434B5C;\n",
              "      box-shadow: 0px 1px 3px 1px rgba(0, 0, 0, 0.15);\n",
              "      filter: drop-shadow(0px 1px 2px rgba(0, 0, 0, 0.3));\n",
              "      fill: #FFFFFF;\n",
              "    }\n",
              "  </style>\n",
              "\n",
              "    <script>\n",
              "      const buttonEl =\n",
              "        document.querySelector('#df-8fa58519-2c9f-4c48-aaa6-20145134f94f button.colab-df-convert');\n",
              "      buttonEl.style.display =\n",
              "        google.colab.kernel.accessAllowed ? 'block' : 'none';\n",
              "\n",
              "      async function convertToInteractive(key) {\n",
              "        const element = document.querySelector('#df-8fa58519-2c9f-4c48-aaa6-20145134f94f');\n",
              "        const dataTable =\n",
              "          await google.colab.kernel.invokeFunction('convertToInteractive',\n",
              "                                                    [key], {});\n",
              "        if (!dataTable) return;\n",
              "\n",
              "        const docLinkHtml = 'Like what you see? Visit the ' +\n",
              "          '<a target=\"_blank\" href=https://colab.research.google.com/notebooks/data_table.ipynb>data table notebook</a>'\n",
              "          + ' to learn more about interactive tables.';\n",
              "        element.innerHTML = '';\n",
              "        dataTable['output_type'] = 'display_data';\n",
              "        await google.colab.output.renderOutput(dataTable, element);\n",
              "        const docLink = document.createElement('div');\n",
              "        docLink.innerHTML = docLinkHtml;\n",
              "        element.appendChild(docLink);\n",
              "      }\n",
              "    </script>\n",
              "  </div>\n",
              "\n",
              "\n",
              "<div id=\"df-18137893-9478-4bdc-985c-932bcf298973\">\n",
              "  <button class=\"colab-df-quickchart\" onclick=\"quickchart('df-18137893-9478-4bdc-985c-932bcf298973')\"\n",
              "            title=\"Suggest charts\"\n",
              "            style=\"display:none;\">\n",
              "\n",
              "<svg xmlns=\"http://www.w3.org/2000/svg\" height=\"24px\"viewBox=\"0 0 24 24\"\n",
              "     width=\"24px\">\n",
              "    <g>\n",
              "        <path d=\"M19 3H5c-1.1 0-2 .9-2 2v14c0 1.1.9 2 2 2h14c1.1 0 2-.9 2-2V5c0-1.1-.9-2-2-2zM9 17H7v-7h2v7zm4 0h-2V7h2v10zm4 0h-2v-4h2v4z\"/>\n",
              "    </g>\n",
              "</svg>\n",
              "  </button>\n",
              "\n",
              "<style>\n",
              "  .colab-df-quickchart {\n",
              "      --bg-color: #E8F0FE;\n",
              "      --fill-color: #1967D2;\n",
              "      --hover-bg-color: #E2EBFA;\n",
              "      --hover-fill-color: #174EA6;\n",
              "      --disabled-fill-color: #AAA;\n",
              "      --disabled-bg-color: #DDD;\n",
              "  }\n",
              "\n",
              "  [theme=dark] .colab-df-quickchart {\n",
              "      --bg-color: #3B4455;\n",
              "      --fill-color: #D2E3FC;\n",
              "      --hover-bg-color: #434B5C;\n",
              "      --hover-fill-color: #FFFFFF;\n",
              "      --disabled-bg-color: #3B4455;\n",
              "      --disabled-fill-color: #666;\n",
              "  }\n",
              "\n",
              "  .colab-df-quickchart {\n",
              "    background-color: var(--bg-color);\n",
              "    border: none;\n",
              "    border-radius: 50%;\n",
              "    cursor: pointer;\n",
              "    display: none;\n",
              "    fill: var(--fill-color);\n",
              "    height: 32px;\n",
              "    padding: 0;\n",
              "    width: 32px;\n",
              "  }\n",
              "\n",
              "  .colab-df-quickchart:hover {\n",
              "    background-color: var(--hover-bg-color);\n",
              "    box-shadow: 0 1px 2px rgba(60, 64, 67, 0.3), 0 1px 3px 1px rgba(60, 64, 67, 0.15);\n",
              "    fill: var(--button-hover-fill-color);\n",
              "  }\n",
              "\n",
              "  .colab-df-quickchart-complete:disabled,\n",
              "  .colab-df-quickchart-complete:disabled:hover {\n",
              "    background-color: var(--disabled-bg-color);\n",
              "    fill: var(--disabled-fill-color);\n",
              "    box-shadow: none;\n",
              "  }\n",
              "\n",
              "  .colab-df-spinner {\n",
              "    border: 2px solid var(--fill-color);\n",
              "    border-color: transparent;\n",
              "    border-bottom-color: var(--fill-color);\n",
              "    animation:\n",
              "      spin 1s steps(1) infinite;\n",
              "  }\n",
              "\n",
              "  @keyframes spin {\n",
              "    0% {\n",
              "      border-color: transparent;\n",
              "      border-bottom-color: var(--fill-color);\n",
              "      border-left-color: var(--fill-color);\n",
              "    }\n",
              "    20% {\n",
              "      border-color: transparent;\n",
              "      border-left-color: var(--fill-color);\n",
              "      border-top-color: var(--fill-color);\n",
              "    }\n",
              "    30% {\n",
              "      border-color: transparent;\n",
              "      border-left-color: var(--fill-color);\n",
              "      border-top-color: var(--fill-color);\n",
              "      border-right-color: var(--fill-color);\n",
              "    }\n",
              "    40% {\n",
              "      border-color: transparent;\n",
              "      border-right-color: var(--fill-color);\n",
              "      border-top-color: var(--fill-color);\n",
              "    }\n",
              "    60% {\n",
              "      border-color: transparent;\n",
              "      border-right-color: var(--fill-color);\n",
              "    }\n",
              "    80% {\n",
              "      border-color: transparent;\n",
              "      border-right-color: var(--fill-color);\n",
              "      border-bottom-color: var(--fill-color);\n",
              "    }\n",
              "    90% {\n",
              "      border-color: transparent;\n",
              "      border-bottom-color: var(--fill-color);\n",
              "    }\n",
              "  }\n",
              "</style>\n",
              "\n",
              "  <script>\n",
              "    async function quickchart(key) {\n",
              "      const quickchartButtonEl =\n",
              "        document.querySelector('#' + key + ' button');\n",
              "      quickchartButtonEl.disabled = true;  // To prevent multiple clicks.\n",
              "      quickchartButtonEl.classList.add('colab-df-spinner');\n",
              "      try {\n",
              "        const charts = await google.colab.kernel.invokeFunction(\n",
              "            'suggestCharts', [key], {});\n",
              "      } catch (error) {\n",
              "        console.error('Error during call to suggestCharts:', error);\n",
              "      }\n",
              "      quickchartButtonEl.classList.remove('colab-df-spinner');\n",
              "      quickchartButtonEl.classList.add('colab-df-quickchart-complete');\n",
              "    }\n",
              "    (() => {\n",
              "      let quickchartButtonEl =\n",
              "        document.querySelector('#df-18137893-9478-4bdc-985c-932bcf298973 button');\n",
              "      quickchartButtonEl.style.display =\n",
              "        google.colab.kernel.accessAllowed ? 'block' : 'none';\n",
              "    })();\n",
              "  </script>\n",
              "</div>\n",
              "\n",
              "  <div id=\"id_2bb9fa55-ac16-43e2-930f-1587ef6f4892\">\n",
              "    <style>\n",
              "      .colab-df-generate {\n",
              "        background-color: #E8F0FE;\n",
              "        border: none;\n",
              "        border-radius: 50%;\n",
              "        cursor: pointer;\n",
              "        display: none;\n",
              "        fill: #1967D2;\n",
              "        height: 32px;\n",
              "        padding: 0 0 0 0;\n",
              "        width: 32px;\n",
              "      }\n",
              "\n",
              "      .colab-df-generate:hover {\n",
              "        background-color: #E2EBFA;\n",
              "        box-shadow: 0px 1px 2px rgba(60, 64, 67, 0.3), 0px 1px 3px 1px rgba(60, 64, 67, 0.15);\n",
              "        fill: #174EA6;\n",
              "      }\n",
              "\n",
              "      [theme=dark] .colab-df-generate {\n",
              "        background-color: #3B4455;\n",
              "        fill: #D2E3FC;\n",
              "      }\n",
              "\n",
              "      [theme=dark] .colab-df-generate:hover {\n",
              "        background-color: #434B5C;\n",
              "        box-shadow: 0px 1px 3px 1px rgba(0, 0, 0, 0.15);\n",
              "        filter: drop-shadow(0px 1px 2px rgba(0, 0, 0, 0.3));\n",
              "        fill: #FFFFFF;\n",
              "      }\n",
              "    </style>\n",
              "    <button class=\"colab-df-generate\" onclick=\"generateWithVariable('df')\"\n",
              "            title=\"Generate code using this dataframe.\"\n",
              "            style=\"display:none;\">\n",
              "\n",
              "  <svg xmlns=\"http://www.w3.org/2000/svg\" height=\"24px\"viewBox=\"0 0 24 24\"\n",
              "       width=\"24px\">\n",
              "    <path d=\"M7,19H8.4L18.45,9,17,7.55,7,17.6ZM5,21V16.75L18.45,3.32a2,2,0,0,1,2.83,0l1.4,1.43a1.91,1.91,0,0,1,.58,1.4,1.91,1.91,0,0,1-.58,1.4L9.25,21ZM18.45,9,17,7.55Zm-12,3A5.31,5.31,0,0,0,4.9,8.1,5.31,5.31,0,0,0,1,6.5,5.31,5.31,0,0,0,4.9,4.9,5.31,5.31,0,0,0,6.5,1,5.31,5.31,0,0,0,8.1,4.9,5.31,5.31,0,0,0,12,6.5,5.46,5.46,0,0,0,6.5,12Z\"/>\n",
              "  </svg>\n",
              "    </button>\n",
              "    <script>\n",
              "      (() => {\n",
              "      const buttonEl =\n",
              "        document.querySelector('#id_2bb9fa55-ac16-43e2-930f-1587ef6f4892 button.colab-df-generate');\n",
              "      buttonEl.style.display =\n",
              "        google.colab.kernel.accessAllowed ? 'block' : 'none';\n",
              "\n",
              "      buttonEl.onclick = () => {\n",
              "        google.colab.notebook.generateWithVariable('df');\n",
              "      }\n",
              "      })();\n",
              "    </script>\n",
              "  </div>\n",
              "\n",
              "    </div>\n",
              "  </div>\n"
            ],
            "application/vnd.google.colaboratory.intrinsic+json": {
              "type": "dataframe",
              "variable_name": "df",
              "summary": "{\n  \"name\": \"df\",\n  \"rows\": 3,\n  \"fields\": [\n    {\n      \"column\": \"Name\",\n      \"properties\": {\n        \"dtype\": \"string\",\n        \"num_unique_values\": 3,\n        \"samples\": [\n          \"Alice\",\n          \"Bob\",\n          \"Charlie\"\n        ],\n        \"semantic_type\": \"\",\n        \"description\": \"\"\n      }\n    },\n    {\n      \"column\": \"City\",\n      \"properties\": {\n        \"dtype\": \"string\",\n        \"num_unique_values\": 3,\n        \"samples\": [\n          \"NewYork\",\n          \"SanFrancisco\",\n          \"LosAngeles\"\n        ],\n        \"semantic_type\": \"\",\n        \"description\": \"\"\n      }\n    }\n  ]\n}"
            }
          },
          "metadata": {},
          "execution_count": 29
        }
      ]
    },
    {
      "cell_type": "markdown",
      "source": [
        " 2.2 BasicOperationonData:**DataInspectionandExploration**"
      ],
      "metadata": {
        "id": "Lee9dDMiN8rO"
      }
    },
    {
      "cell_type": "markdown",
      "source": [
        " 1.**FirstDataInspectionandExploration**"
      ],
      "metadata": {
        "id": "O2UT6VnIN98F"
      }
    },
    {
      "cell_type": "code",
      "source": [
        "import pandas as pd\n",
        " #SampleDataFrame\n",
        "data= {\n",
        " 'Name':['Alice','Bob','Charlie'],\n",
        " 'Age':[25,30,35],\n",
        " 'Salary':[50000,60000,70000]\n",
        " }\n",
        "df=pd.DataFrame(data)\n",
        " #View thefirst tworows\n",
        "print(df.head(2))\n",
        " #View thelastrow\n",
        "print(df.tail(1))\n",
        " #DataFrameinformation\n",
        "print(df.info())\n",
        " #Summarystatistics\n",
        "print(df.describe())\n",
        " #Checkdimensions oftheDataFrame\n",
        "print(f\"TheDataFramehas{df.shape[0]}rowsand{df.shape[1]}columns.\")\n",
        " #Accessthe’Age’ column\n",
        "print(df['Age'])\n",
        " #Selectrowsby numericalindex\n",
        "print(df.iloc[0])#Firstrow\n",
        " #Selectrowsby condition\n",
        "print(df.loc[df['Age']>30])#RowswhereAge>30"
      ],
      "metadata": {
        "colab": {
          "base_uri": "https://localhost:8080/"
        },
        "id": "dOIjsgk-OB4_",
        "outputId": "261336e1-9088-4e8a-9457-be02ac207b92"
      },
      "execution_count": null,
      "outputs": [
        {
          "output_type": "stream",
          "name": "stdout",
          "text": [
            "    Name  Age  Salary\n",
            "0  Alice   25   50000\n",
            "1    Bob   30   60000\n",
            "      Name  Age  Salary\n",
            "2  Charlie   35   70000\n",
            "<class 'pandas.core.frame.DataFrame'>\n",
            "RangeIndex: 3 entries, 0 to 2\n",
            "Data columns (total 3 columns):\n",
            " #   Column  Non-Null Count  Dtype \n",
            "---  ------  --------------  ----- \n",
            " 0   Name    3 non-null      object\n",
            " 1   Age     3 non-null      int64 \n",
            " 2   Salary  3 non-null      int64 \n",
            "dtypes: int64(2), object(1)\n",
            "memory usage: 200.0+ bytes\n",
            "None\n",
            "        Age   Salary\n",
            "count   3.0      3.0\n",
            "mean   30.0  60000.0\n",
            "std     5.0  10000.0\n",
            "min    25.0  50000.0\n",
            "25%    27.5  55000.0\n",
            "50%    30.0  60000.0\n",
            "75%    32.5  65000.0\n",
            "max    35.0  70000.0\n",
            "TheDataFramehas3rowsand3columns.\n",
            "0    25\n",
            "1    30\n",
            "2    35\n",
            "Name: Age, dtype: int64\n",
            "Name      Alice\n",
            "Age          25\n",
            "Salary    50000\n",
            "Name: 0, dtype: object\n",
            "      Name  Age  Salary\n",
            "2  Charlie   35   70000\n"
          ]
        }
      ]
    },
    {
      "cell_type": "markdown",
      "source": [
        "UnderstandingDataFrame.info()**bold text**"
      ],
      "metadata": {
        "id": "UbxuPvqKOqfD"
      }
    },
    {
      "cell_type": "code",
      "source": [
        "import pandas as pd\n",
        " #SampleDataFrame\n",
        "data= {\n",
        "    'Name':['Alice','Bob','Charlie'],\n",
        " 'Age':[25,30,None],\n",
        " 'Salary':[50000,60000,55000]\n",
        " }\n",
        "df=pd.DataFrame(data)\n",
        " #Checkinfo\n",
        "df.info()\n",
        " #----------------------------------------------------------------------\n",
        "#**************************OUTPUTExplaination***************************\n",
        " #-----------------------------------------------------------------------\n",
        "# <class 'pandas.core.frame.DataFrame'>#Theobjecttype\n",
        "# RangeIndex:3entries,0to2#Numberofrows\n",
        "# Datacolumns(total=3columns):#Numberofcolumns\n",
        "#  #ColumnNon-NullCountDtype---------------------------\n",
        "# 0Name3non-nullobject#Allrowshave values\n",
        "# 1Age 2non-nullfloat64#Onemissingvalue\n",
        "# 2Salary3non-nullint64#Allrowshavevalues\n",
        "# dtypes:float64(1),int64(1),object(1)#Datatypes\n",
        "# memory usage:200.0+bytes#Memoryused"
      ],
      "metadata": {
        "colab": {
          "base_uri": "https://localhost:8080/"
        },
        "id": "8u_r8YYSOsHk",
        "outputId": "8339fb6f-9ca5-4e9d-c945-b7b421e13899"
      },
      "execution_count": null,
      "outputs": [
        {
          "output_type": "stream",
          "name": "stdout",
          "text": [
            "<class 'pandas.core.frame.DataFrame'>\n",
            "RangeIndex: 3 entries, 0 to 2\n",
            "Data columns (total 3 columns):\n",
            " #   Column  Non-Null Count  Dtype  \n",
            "---  ------  --------------  -----  \n",
            " 0   Name    3 non-null      object \n",
            " 1   Age     2 non-null      float64\n",
            " 2   Salary  3 non-null      int64  \n",
            "dtypes: float64(1), int64(1), object(1)\n",
            "memory usage: 200.0+ bytes\n"
          ]
        }
      ]
    },
    {
      "cell_type": "markdown",
      "source": [
        " UnderstandingDataFrame.describe()**bold text**"
      ],
      "metadata": {
        "id": "MTjK2aiyPlPl"
      }
    },
    {
      "cell_type": "code",
      "source": [
        " #Generatedescriptivestatistics\n",
        "import pandas as pd\n",
        " #SampleDataFrame\n",
        "data= {\n",
        " 'Name':['Alice','Bob','Charlie'],\n",
        " 'Age':[25,30,None],\n",
        " 'Salary':[50000,60000,55000]\n",
        " }\n",
        "df=pd.DataFrame(data)\n",
        "df.describe()"
      ],
      "metadata": {
        "colab": {
          "base_uri": "https://localhost:8080/",
          "height": 300
        },
        "id": "zqWsLiidPmjx",
        "outputId": "a628b149-8321-4f2d-b919-3172ea57d9f7"
      },
      "execution_count": null,
      "outputs": [
        {
          "output_type": "execute_result",
          "data": {
            "text/plain": [
              "             Age   Salary\n",
              "count   2.000000      3.0\n",
              "mean   27.500000  55000.0\n",
              "std     3.535534   5000.0\n",
              "min    25.000000  50000.0\n",
              "25%    26.250000  52500.0\n",
              "50%    27.500000  55000.0\n",
              "75%    28.750000  57500.0\n",
              "max    30.000000  60000.0"
            ],
            "text/html": [
              "\n",
              "  <div id=\"df-f2521366-93f6-491c-8c69-7e04e85b1d86\" class=\"colab-df-container\">\n",
              "    <div>\n",
              "<style scoped>\n",
              "    .dataframe tbody tr th:only-of-type {\n",
              "        vertical-align: middle;\n",
              "    }\n",
              "\n",
              "    .dataframe tbody tr th {\n",
              "        vertical-align: top;\n",
              "    }\n",
              "\n",
              "    .dataframe thead th {\n",
              "        text-align: right;\n",
              "    }\n",
              "</style>\n",
              "<table border=\"1\" class=\"dataframe\">\n",
              "  <thead>\n",
              "    <tr style=\"text-align: right;\">\n",
              "      <th></th>\n",
              "      <th>Age</th>\n",
              "      <th>Salary</th>\n",
              "    </tr>\n",
              "  </thead>\n",
              "  <tbody>\n",
              "    <tr>\n",
              "      <th>count</th>\n",
              "      <td>2.000000</td>\n",
              "      <td>3.0</td>\n",
              "    </tr>\n",
              "    <tr>\n",
              "      <th>mean</th>\n",
              "      <td>27.500000</td>\n",
              "      <td>55000.0</td>\n",
              "    </tr>\n",
              "    <tr>\n",
              "      <th>std</th>\n",
              "      <td>3.535534</td>\n",
              "      <td>5000.0</td>\n",
              "    </tr>\n",
              "    <tr>\n",
              "      <th>min</th>\n",
              "      <td>25.000000</td>\n",
              "      <td>50000.0</td>\n",
              "    </tr>\n",
              "    <tr>\n",
              "      <th>25%</th>\n",
              "      <td>26.250000</td>\n",
              "      <td>52500.0</td>\n",
              "    </tr>\n",
              "    <tr>\n",
              "      <th>50%</th>\n",
              "      <td>27.500000</td>\n",
              "      <td>55000.0</td>\n",
              "    </tr>\n",
              "    <tr>\n",
              "      <th>75%</th>\n",
              "      <td>28.750000</td>\n",
              "      <td>57500.0</td>\n",
              "    </tr>\n",
              "    <tr>\n",
              "      <th>max</th>\n",
              "      <td>30.000000</td>\n",
              "      <td>60000.0</td>\n",
              "    </tr>\n",
              "  </tbody>\n",
              "</table>\n",
              "</div>\n",
              "    <div class=\"colab-df-buttons\">\n",
              "\n",
              "  <div class=\"colab-df-container\">\n",
              "    <button class=\"colab-df-convert\" onclick=\"convertToInteractive('df-f2521366-93f6-491c-8c69-7e04e85b1d86')\"\n",
              "            title=\"Convert this dataframe to an interactive table.\"\n",
              "            style=\"display:none;\">\n",
              "\n",
              "  <svg xmlns=\"http://www.w3.org/2000/svg\" height=\"24px\" viewBox=\"0 -960 960 960\">\n",
              "    <path d=\"M120-120v-720h720v720H120Zm60-500h600v-160H180v160Zm220 220h160v-160H400v160Zm0 220h160v-160H400v160ZM180-400h160v-160H180v160Zm440 0h160v-160H620v160ZM180-180h160v-160H180v160Zm440 0h160v-160H620v160Z\"/>\n",
              "  </svg>\n",
              "    </button>\n",
              "\n",
              "  <style>\n",
              "    .colab-df-container {\n",
              "      display:flex;\n",
              "      gap: 12px;\n",
              "    }\n",
              "\n",
              "    .colab-df-convert {\n",
              "      background-color: #E8F0FE;\n",
              "      border: none;\n",
              "      border-radius: 50%;\n",
              "      cursor: pointer;\n",
              "      display: none;\n",
              "      fill: #1967D2;\n",
              "      height: 32px;\n",
              "      padding: 0 0 0 0;\n",
              "      width: 32px;\n",
              "    }\n",
              "\n",
              "    .colab-df-convert:hover {\n",
              "      background-color: #E2EBFA;\n",
              "      box-shadow: 0px 1px 2px rgba(60, 64, 67, 0.3), 0px 1px 3px 1px rgba(60, 64, 67, 0.15);\n",
              "      fill: #174EA6;\n",
              "    }\n",
              "\n",
              "    .colab-df-buttons div {\n",
              "      margin-bottom: 4px;\n",
              "    }\n",
              "\n",
              "    [theme=dark] .colab-df-convert {\n",
              "      background-color: #3B4455;\n",
              "      fill: #D2E3FC;\n",
              "    }\n",
              "\n",
              "    [theme=dark] .colab-df-convert:hover {\n",
              "      background-color: #434B5C;\n",
              "      box-shadow: 0px 1px 3px 1px rgba(0, 0, 0, 0.15);\n",
              "      filter: drop-shadow(0px 1px 2px rgba(0, 0, 0, 0.3));\n",
              "      fill: #FFFFFF;\n",
              "    }\n",
              "  </style>\n",
              "\n",
              "    <script>\n",
              "      const buttonEl =\n",
              "        document.querySelector('#df-f2521366-93f6-491c-8c69-7e04e85b1d86 button.colab-df-convert');\n",
              "      buttonEl.style.display =\n",
              "        google.colab.kernel.accessAllowed ? 'block' : 'none';\n",
              "\n",
              "      async function convertToInteractive(key) {\n",
              "        const element = document.querySelector('#df-f2521366-93f6-491c-8c69-7e04e85b1d86');\n",
              "        const dataTable =\n",
              "          await google.colab.kernel.invokeFunction('convertToInteractive',\n",
              "                                                    [key], {});\n",
              "        if (!dataTable) return;\n",
              "\n",
              "        const docLinkHtml = 'Like what you see? Visit the ' +\n",
              "          '<a target=\"_blank\" href=https://colab.research.google.com/notebooks/data_table.ipynb>data table notebook</a>'\n",
              "          + ' to learn more about interactive tables.';\n",
              "        element.innerHTML = '';\n",
              "        dataTable['output_type'] = 'display_data';\n",
              "        await google.colab.output.renderOutput(dataTable, element);\n",
              "        const docLink = document.createElement('div');\n",
              "        docLink.innerHTML = docLinkHtml;\n",
              "        element.appendChild(docLink);\n",
              "      }\n",
              "    </script>\n",
              "  </div>\n",
              "\n",
              "\n",
              "<div id=\"df-1b748d28-fe33-4acf-bff5-2738dec7d7ed\">\n",
              "  <button class=\"colab-df-quickchart\" onclick=\"quickchart('df-1b748d28-fe33-4acf-bff5-2738dec7d7ed')\"\n",
              "            title=\"Suggest charts\"\n",
              "            style=\"display:none;\">\n",
              "\n",
              "<svg xmlns=\"http://www.w3.org/2000/svg\" height=\"24px\"viewBox=\"0 0 24 24\"\n",
              "     width=\"24px\">\n",
              "    <g>\n",
              "        <path d=\"M19 3H5c-1.1 0-2 .9-2 2v14c0 1.1.9 2 2 2h14c1.1 0 2-.9 2-2V5c0-1.1-.9-2-2-2zM9 17H7v-7h2v7zm4 0h-2V7h2v10zm4 0h-2v-4h2v4z\"/>\n",
              "    </g>\n",
              "</svg>\n",
              "  </button>\n",
              "\n",
              "<style>\n",
              "  .colab-df-quickchart {\n",
              "      --bg-color: #E8F0FE;\n",
              "      --fill-color: #1967D2;\n",
              "      --hover-bg-color: #E2EBFA;\n",
              "      --hover-fill-color: #174EA6;\n",
              "      --disabled-fill-color: #AAA;\n",
              "      --disabled-bg-color: #DDD;\n",
              "  }\n",
              "\n",
              "  [theme=dark] .colab-df-quickchart {\n",
              "      --bg-color: #3B4455;\n",
              "      --fill-color: #D2E3FC;\n",
              "      --hover-bg-color: #434B5C;\n",
              "      --hover-fill-color: #FFFFFF;\n",
              "      --disabled-bg-color: #3B4455;\n",
              "      --disabled-fill-color: #666;\n",
              "  }\n",
              "\n",
              "  .colab-df-quickchart {\n",
              "    background-color: var(--bg-color);\n",
              "    border: none;\n",
              "    border-radius: 50%;\n",
              "    cursor: pointer;\n",
              "    display: none;\n",
              "    fill: var(--fill-color);\n",
              "    height: 32px;\n",
              "    padding: 0;\n",
              "    width: 32px;\n",
              "  }\n",
              "\n",
              "  .colab-df-quickchart:hover {\n",
              "    background-color: var(--hover-bg-color);\n",
              "    box-shadow: 0 1px 2px rgba(60, 64, 67, 0.3), 0 1px 3px 1px rgba(60, 64, 67, 0.15);\n",
              "    fill: var(--button-hover-fill-color);\n",
              "  }\n",
              "\n",
              "  .colab-df-quickchart-complete:disabled,\n",
              "  .colab-df-quickchart-complete:disabled:hover {\n",
              "    background-color: var(--disabled-bg-color);\n",
              "    fill: var(--disabled-fill-color);\n",
              "    box-shadow: none;\n",
              "  }\n",
              "\n",
              "  .colab-df-spinner {\n",
              "    border: 2px solid var(--fill-color);\n",
              "    border-color: transparent;\n",
              "    border-bottom-color: var(--fill-color);\n",
              "    animation:\n",
              "      spin 1s steps(1) infinite;\n",
              "  }\n",
              "\n",
              "  @keyframes spin {\n",
              "    0% {\n",
              "      border-color: transparent;\n",
              "      border-bottom-color: var(--fill-color);\n",
              "      border-left-color: var(--fill-color);\n",
              "    }\n",
              "    20% {\n",
              "      border-color: transparent;\n",
              "      border-left-color: var(--fill-color);\n",
              "      border-top-color: var(--fill-color);\n",
              "    }\n",
              "    30% {\n",
              "      border-color: transparent;\n",
              "      border-left-color: var(--fill-color);\n",
              "      border-top-color: var(--fill-color);\n",
              "      border-right-color: var(--fill-color);\n",
              "    }\n",
              "    40% {\n",
              "      border-color: transparent;\n",
              "      border-right-color: var(--fill-color);\n",
              "      border-top-color: var(--fill-color);\n",
              "    }\n",
              "    60% {\n",
              "      border-color: transparent;\n",
              "      border-right-color: var(--fill-color);\n",
              "    }\n",
              "    80% {\n",
              "      border-color: transparent;\n",
              "      border-right-color: var(--fill-color);\n",
              "      border-bottom-color: var(--fill-color);\n",
              "    }\n",
              "    90% {\n",
              "      border-color: transparent;\n",
              "      border-bottom-color: var(--fill-color);\n",
              "    }\n",
              "  }\n",
              "</style>\n",
              "\n",
              "  <script>\n",
              "    async function quickchart(key) {\n",
              "      const quickchartButtonEl =\n",
              "        document.querySelector('#' + key + ' button');\n",
              "      quickchartButtonEl.disabled = true;  // To prevent multiple clicks.\n",
              "      quickchartButtonEl.classList.add('colab-df-spinner');\n",
              "      try {\n",
              "        const charts = await google.colab.kernel.invokeFunction(\n",
              "            'suggestCharts', [key], {});\n",
              "      } catch (error) {\n",
              "        console.error('Error during call to suggestCharts:', error);\n",
              "      }\n",
              "      quickchartButtonEl.classList.remove('colab-df-spinner');\n",
              "      quickchartButtonEl.classList.add('colab-df-quickchart-complete');\n",
              "    }\n",
              "    (() => {\n",
              "      let quickchartButtonEl =\n",
              "        document.querySelector('#df-1b748d28-fe33-4acf-bff5-2738dec7d7ed button');\n",
              "      quickchartButtonEl.style.display =\n",
              "        google.colab.kernel.accessAllowed ? 'block' : 'none';\n",
              "    })();\n",
              "  </script>\n",
              "</div>\n",
              "\n",
              "    </div>\n",
              "  </div>\n"
            ],
            "application/vnd.google.colaboratory.intrinsic+json": {
              "type": "dataframe",
              "summary": "{\n  \"name\": \"df\",\n  \"rows\": 8,\n  \"fields\": [\n    {\n      \"column\": \"Age\",\n      \"properties\": {\n        \"dtype\": \"number\",\n        \"std\": 11.553162581409154,\n        \"min\": 2.0,\n        \"max\": 30.0,\n        \"num_unique_values\": 7,\n        \"samples\": [\n          2.0,\n          27.5,\n          28.75\n        ],\n        \"semantic_type\": \"\",\n        \"description\": \"\"\n      }\n    },\n    {\n      \"column\": \"Salary\",\n      \"properties\": {\n        \"dtype\": \"number\",\n        \"std\": 24521.488412862356,\n        \"min\": 3.0,\n        \"max\": 60000.0,\n        \"num_unique_values\": 7,\n        \"samples\": [\n          3.0,\n          55000.0,\n          57500.0\n        ],\n        \"semantic_type\": \"\",\n        \"description\": \"\"\n      }\n    }\n  ]\n}"
            }
          },
          "metadata": {},
          "execution_count": 41
        }
      ]
    },
    {
      "cell_type": "markdown",
      "source": [
        " 2.**FilteringandModifyingData**"
      ],
      "metadata": {
        "id": "E9THbjqsQQV4"
      }
    },
    {
      "cell_type": "code",
      "source": [
        "import pandas as pd\n",
        "df=pd.DataFrame({\n",
        " 'Name':['Alice','Bob','Charlie'],\n",
        " 'Age':[25,30,35],\n",
        " 'Salary':[50000,60000,70000]\n",
        " })\n",
        " #FilterrowswhereAge>28\n",
        "filtered_rows=df[df['Age']>28]\n",
        "print(filtered_rows)\n",
        " #SelectSpecific Columns\n",
        " #Selectonly’Name’and’Salary’columns\n",
        "selected_columns = df[['Name','Salary']]\n",
        "print(selected_columns)\n",
        "\n",
        "\n",
        "\n",
        " #Drop the’Salary’column\n",
        "df_without_salary=df.drop(columns='Salary')\n",
        "print(df_without_salary)\n",
        " #Drop therowwithindex1(Bob)\n",
        "df_without_row= df.drop(index=1)\n",
        "print(df_without_row)\n",
        " #Addanewcolumn forBonus\n",
        "df['Bonus']=df['Salary']*0.1\n",
        "print(df)\n"
      ],
      "metadata": {
        "colab": {
          "base_uri": "https://localhost:8080/"
        },
        "id": "CNhwBlyiQRw-",
        "outputId": "e1215a28-976c-4b00-c2c2-9a39c881dbb8"
      },
      "execution_count": null,
      "outputs": [
        {
          "output_type": "stream",
          "name": "stdout",
          "text": [
            "      Name  Age  Salary\n",
            "1      Bob   30   60000\n",
            "2  Charlie   35   70000\n",
            "      Name  Salary\n",
            "0    Alice   50000\n",
            "1      Bob   60000\n",
            "2  Charlie   70000\n",
            "      Name  Age\n",
            "0    Alice   25\n",
            "1      Bob   30\n",
            "2  Charlie   35\n",
            "      Name  Age  Salary\n",
            "0    Alice   25   50000\n",
            "2  Charlie   35   70000\n",
            "      Name  Age  Salary   Bonus\n",
            "0    Alice   25   50000  5000.0\n",
            "1      Bob   30   60000  6000.0\n",
            "2  Charlie   35   70000  7000.0\n"
          ]
        }
      ]
    },
    {
      "cell_type": "markdown",
      "source": [
        "2.3 BasicOperationonData-DataWrangling-CommonDataCleaning\n",
        " **operations**"
      ],
      "metadata": {
        "id": "av2Vc4pvxQ0d"
      }
    },
    {
      "cell_type": "markdown",
      "source": [
        "1.**HandlingMissingValues**"
      ],
      "metadata": {
        "id": "epv-PszCxTY_"
      }
    },
    {
      "cell_type": "code",
      "source": [
        " #AddingSomeMissingValues\n",
        "import pandas as pd\n",
        "from sklearn.datasets import load_iris\n",
        "import numpy as np\n",
        "iris= load_iris() #LoadtheIrisdataset\n",
        "iris_df=pd.DataFrame(data=np.c_[iris['data'],iris['target']],columns=iris['feature_names']+['target'])\n",
        "np.random.seed(42) #Introducemissingvaluesrandomly\n",
        "mask= np.random.rand(*iris_df.shape)<0.1#10%\n",
        "iris_df[mask]=np.nan\n",
        "print(\"MissingValuesinIrisDataset:\")\n",
        "print(iris_df.isnull().sum())\n",
        "\n",
        "\n",
        " #Fillingmissingvalueswithforwardfill(ffill),mean,median,and0\n",
        "iris_df_ffill=iris_df.ffill()\n",
        "iris_df_mean=iris_df.fillna(iris_df.mean())\n",
        "iris_df_median= iris_df.fillna(iris_df.median())\n",
        "iris_df_zero = iris_df.fillna(0)\n",
        " # Expand iris_df with filled columns\n",
        "iris_df_expanded = pd.concat([iris_df, iris_df_ffill.add_suffix('_ffill'), iris_df_mean.add_suffix('_mean'),iris_df_median.add_suffix('_median'),iris_df_zero.add_suffix('_zero')], axis=1)\n",
        " # Display the head of the expanded DataFrame\n",
        "print(\"\\nDataset after Filling Missing Values:\")\n",
        "print(iris_df_expanded.head())\n"
      ],
      "metadata": {
        "colab": {
          "base_uri": "https://localhost:8080/"
        },
        "id": "jslf8QWMxX-Q",
        "outputId": "6e832021-9f66-4edd-8d91-e4adc457052d"
      },
      "execution_count": null,
      "outputs": [
        {
          "output_type": "stream",
          "name": "stdout",
          "text": [
            "MissingValuesinIrisDataset:\n",
            "sepal length (cm)    15\n",
            "sepal width (cm)     15\n",
            "petal length (cm)    19\n",
            "petal width (cm)     15\n",
            "target               19\n",
            "dtype: int64\n",
            "\n",
            "Dataset after Filling Missing Values:\n",
            "   sepal length (cm)  sepal width (cm)  petal length (cm)  petal width (cm)  \\\n",
            "0                5.1               3.5                1.4               0.2   \n",
            "1                4.9               NaN                1.4               0.2   \n",
            "2                NaN               3.2                1.3               0.2   \n",
            "3                4.6               3.1                1.5               0.2   \n",
            "4                5.0               3.6                1.4               0.2   \n",
            "\n",
            "   target  sepal length (cm)_ffill  sepal width (cm)_ffill  \\\n",
            "0     0.0                      5.1                     3.5   \n",
            "1     0.0                      4.9                     3.5   \n",
            "2     0.0                      4.9                     3.2   \n",
            "3     0.0                      4.6                     3.1   \n",
            "4     0.0                      5.0                     3.6   \n",
            "\n",
            "   petal length (cm)_ffill  petal width (cm)_ffill  target_ffill  ...  \\\n",
            "0                      1.4                     0.2           0.0  ...   \n",
            "1                      1.4                     0.2           0.0  ...   \n",
            "2                      1.3                     0.2           0.0  ...   \n",
            "3                      1.5                     0.2           0.0  ...   \n",
            "4                      1.4                     0.2           0.0  ...   \n",
            "\n",
            "   sepal length (cm)_median  sepal width (cm)_median  \\\n",
            "0                       5.1                      3.5   \n",
            "1                       4.9                      3.0   \n",
            "2                       5.8                      3.2   \n",
            "3                       4.6                      3.1   \n",
            "4                       5.0                      3.6   \n",
            "\n",
            "   petal length (cm)_median  petal width (cm)_median  target_median  \\\n",
            "0                       1.4                      0.2            0.0   \n",
            "1                       1.4                      0.2            0.0   \n",
            "2                       1.3                      0.2            0.0   \n",
            "3                       1.5                      0.2            0.0   \n",
            "4                       1.4                      0.2            0.0   \n",
            "\n",
            "   sepal length (cm)_zero  sepal width (cm)_zero  petal length (cm)_zero  \\\n",
            "0                     5.1                    3.5                     1.4   \n",
            "1                     4.9                    0.0                     1.4   \n",
            "2                     0.0                    3.2                     1.3   \n",
            "3                     4.6                    3.1                     1.5   \n",
            "4                     5.0                    3.6                     1.4   \n",
            "\n",
            "   petal width (cm)_zero  target_zero  \n",
            "0                    0.2          0.0  \n",
            "1                    0.2          0.0  \n",
            "2                    0.2          0.0  \n",
            "3                    0.2          0.0  \n",
            "4                    0.2          0.0  \n",
            "\n",
            "[5 rows x 25 columns]\n"
          ]
        }
      ]
    },
    {
      "cell_type": "markdown",
      "source": [
        " 2. **SomeCommonOperationperformedforcleaningdata**"
      ],
      "metadata": {
        "id": "4NbNbJN9z1CP"
      }
    },
    {
      "cell_type": "code",
      "source": [
        "#-------------------------------------------------------------------\n",
        "#-----------TrimmingWhitespaces:---------------------------------\n",
        "#-------------------------------------------------------------------\n",
        "import pandas as pd # Import pandas library with the alias 'pd'\n",
        "df=pd.DataFrame({'Name':['Alice','Bob'],'Age':[25,30]})\n",
        "df['Name']=df['Name'].str.strip()\n",
        "#-------------------------------------------------------------------\n",
        "#-------------ChangingDatatype:------------------------------------\n",
        "#-------------------------------------------------------------------\n",
        "df=pd.DataFrame({'Age':['25','30','35']})\n",
        "#Change’Age’columndatatypetointeger\n",
        "df['Age']=df['Age'].astype(int)\n",
        "print(df)\n",
        "#-------------------------------------------------------------------\n",
        "#-------------RenamingColumns:------------------------------------\n",
        "#-------------------------------------------------------------------\n",
        "#Renamecolumns\n",
        "df=pd.DataFrame({'Name':['Alice','Bob'],'Age':[25,30]})\n",
        "df=df.rename(columns={'Name':'FullName','Age':'Years'})\n",
        "print(df)\n",
        "#-------------------------------------------------------------------\n",
        "#--------------RemovingDuplicates:----------------------------------\n",
        "#-------------------------------------------------------------------\n",
        "#Removeduplicate rows\n",
        "df=pd.DataFrame({'Name':['Alice','Bob','Alice'],'Age':[25,30,25]})\n",
        "df=df.drop_duplicates()\n",
        "print(df)\n"
      ],
      "metadata": {
        "id": "6BjTS3rjz8Mc",
        "colab": {
          "base_uri": "https://localhost:8080/"
        },
        "outputId": "5b2a9d54-4729-4568-8f89-8bb47f1d350c"
      },
      "execution_count": null,
      "outputs": [
        {
          "output_type": "stream",
          "name": "stdout",
          "text": [
            "   Age\n",
            "0   25\n",
            "1   30\n",
            "2   35\n",
            "  FullName  Years\n",
            "0    Alice     25\n",
            "1      Bob     30\n",
            "    Name  Age\n",
            "0  Alice   25\n",
            "1    Bob   30\n"
          ]
        }
      ]
    },
    {
      "cell_type": "markdown",
      "source": [
        " 3.DataTransformation-**DataFrameReshaping**"
      ],
      "metadata": {
        "id": "OpFMZEqH_xXm"
      }
    },
    {
      "cell_type": "code",
      "source": [
        " #------------------Pivoting---------------------------------------\n",
        "import pandas as pd\n",
        " #SampleDataFrame\n",
        "data= {'Date':['2024-01-01','2024-01-01','2024-01-02','2024-01-02'],\n",
        " 'City':['Kathmandu','Pokhara','Kathmandu','Pokhara'],\n",
        " 'Temperature': [15,18,16,19]}\n",
        "df=pd.DataFrame(data)\n",
        " #Pivot:Reshape datatoshowcitiesascolumns\n",
        "pivoted_df=df.pivot(index='Date',columns='City',values='Temperature')\n",
        "print(pivoted_df)\n",
        " #--------------------------------------------------------------------------\n",
        "#---------------------------Melting----------------------------------------\n",
        "#--------------------------------------------------------------------------\n",
        "#Melt:Convertwidedatabacktolongformat\n",
        "melted_df=pd.melt(pivoted_df.reset_index(),id_vars=['Date'],\n",
        "var_name='City',value_name='Temperature')\n",
        "print(melted_df)"
      ],
      "metadata": {
        "colab": {
          "base_uri": "https://localhost:8080/"
        },
        "id": "c-XBebQs_zAb",
        "outputId": "0f2fe6f7-a4eb-4a15-eb8a-a5600da3c276"
      },
      "execution_count": null,
      "outputs": [
        {
          "output_type": "stream",
          "name": "stdout",
          "text": [
            "City        Kathmandu  Pokhara\n",
            "Date                          \n",
            "2024-01-01         15       18\n",
            "2024-01-02         16       19\n",
            "         Date       City  Temperature\n",
            "0  2024-01-01  Kathmandu           15\n",
            "1  2024-01-02  Kathmandu           16\n",
            "2  2024-01-01    Pokhara           18\n",
            "3  2024-01-02    Pokhara           19\n"
          ]
        }
      ]
    },
    {
      "cell_type": "markdown",
      "source": [
        " 4.DataTransformation-**DataScaling**"
      ],
      "metadata": {
        "id": "JEdWk7XYAKkp"
      }
    },
    {
      "cell_type": "code",
      "source": [
        "import pandas as pd\n",
        "from sklearn.datasets import load_iris\n",
        "iris= load_iris() #LoadtheIrisdataset\n",
        "iris_df=pd.DataFrame(data=iris['data'],columns=iris['feature_names'])\n",
        " #Min-MaxScalingusingPandas\n",
        "iris_minmax_scaled =(iris_df-iris_df.min())/(iris_df.max()-iris_df.min())\n",
        "print(\"OriginalIrisDataFrame:\")\n",
        "print(iris_df.head())\n",
        "print(\"\\nMin-Max ScaledIrisDataFrame:\")\n",
        "print(iris_minmax_scaled.head())#Displayscaleddata"
      ],
      "metadata": {
        "colab": {
          "base_uri": "https://localhost:8080/"
        },
        "id": "Py9PVO28APD2",
        "outputId": "f7461470-3fc3-45d5-bf31-81f6a8060c8b"
      },
      "execution_count": null,
      "outputs": [
        {
          "output_type": "stream",
          "name": "stdout",
          "text": [
            "OriginalIrisDataFrame:\n",
            "   sepal length (cm)  sepal width (cm)  petal length (cm)  petal width (cm)\n",
            "0                5.1               3.5                1.4               0.2\n",
            "1                4.9               3.0                1.4               0.2\n",
            "2                4.7               3.2                1.3               0.2\n",
            "3                4.6               3.1                1.5               0.2\n",
            "4                5.0               3.6                1.4               0.2\n",
            "\n",
            "Min-Max ScaledIrisDataFrame:\n",
            "   sepal length (cm)  sepal width (cm)  petal length (cm)  petal width (cm)\n",
            "0           0.222222          0.625000           0.067797          0.041667\n",
            "1           0.166667          0.416667           0.067797          0.041667\n",
            "2           0.111111          0.500000           0.050847          0.041667\n",
            "3           0.083333          0.458333           0.084746          0.041667\n",
            "4           0.194444          0.666667           0.067797          0.041667\n"
          ]
        }
      ]
    },
    {
      "cell_type": "markdown",
      "source": [
        "5.DataTransformation-**HandlingCategoricalVariables**"
      ],
      "metadata": {
        "id": "jSWTF9i3AfrM"
      }
    },
    {
      "cell_type": "code",
      "source": [
        "import pandas as pd\n",
        " #SampleDataFrame withordinalcategories\n",
        "df=pd.DataFrame({'Category':['Low','Medium','High','Low','High']})\n",
        " #Ordinalencoding usingmap\n",
        "ordinal_mapping={'Low':1,'Medium':2,'High':3}\n",
        "df['Category_Ordinal']=df['Category'].map(ordinal_mapping)\n",
        "print(df)"
      ],
      "metadata": {
        "colab": {
          "base_uri": "https://localhost:8080/"
        },
        "id": "oMtBxVvsApi7",
        "outputId": "b7969b5b-4ee5-47ce-b8ea-04814285e2c7"
      },
      "execution_count": null,
      "outputs": [
        {
          "output_type": "stream",
          "name": "stdout",
          "text": [
            "  Category  Category_Ordinal\n",
            "0      Low                 1\n",
            "1   Medium                 2\n",
            "2     High                 3\n",
            "3      Low                 1\n",
            "4     High                 3\n"
          ]
        }
      ]
    },
    {
      "cell_type": "markdown",
      "source": [
        "HandlingCategoricalVariables-**OneHotEncoding**"
      ],
      "metadata": {
        "id": "ZhijiYdAA6OV"
      }
    },
    {
      "cell_type": "code",
      "source": [
        "import pandas as pd\n",
        "df_municipalities=pd.DataFrame({'Municipality':['Kathmandu','Bhaktapur','Lalitpur','Madhyapur Thimi','Kirtipur']})\n",
        "one_hot_encoding = pd.get_dummies(df_municipalities['Municipality'],prefix='Municipality')\n",
        "df_encoded=pd.concat([df_municipalities,one_hot_encoding],axis=1)\n",
        "print(df_encoded)# Displaytheresult"
      ],
      "metadata": {
        "colab": {
          "base_uri": "https://localhost:8080/"
        },
        "id": "cvkCtaKHA8Ud",
        "outputId": "d4318827-50af-4844-f755-70075a4db2b2"
      },
      "execution_count": null,
      "outputs": [
        {
          "output_type": "stream",
          "name": "stdout",
          "text": [
            "      Municipality  Municipality_Bhaktapur  Municipality_Kathmandu  \\\n",
            "0        Kathmandu                   False                    True   \n",
            "1        Bhaktapur                    True                   False   \n",
            "2         Lalitpur                   False                   False   \n",
            "3  Madhyapur Thimi                   False                   False   \n",
            "4         Kirtipur                   False                   False   \n",
            "\n",
            "   Municipality_Kirtipur  Municipality_Lalitpur  Municipality_Madhyapur Thimi  \n",
            "0                  False                  False                         False  \n",
            "1                  False                  False                         False  \n",
            "2                  False                   True                         False  \n",
            "3                  False                  False                          True  \n",
            "4                   True                  False                         False  \n"
          ]
        }
      ]
    },
    {
      "cell_type": "markdown",
      "source": [
        " 6.**MergingandjoiningDataFrames**"
      ],
      "metadata": {
        "id": "84jaG_c1BOOm"
      }
    },
    {
      "cell_type": "code",
      "source": [
        "import pandas as pd\n",
        " #SampleDataFrames\n",
        "df1=pd.DataFrame({'A':[1,2],'B':[3,4]})\n",
        "df2=pd.DataFrame({'A':[5,6],'B':[7,8]})\n",
        " #Row-wiseconcatenation\n",
        "combined_rows=pd.concat([df1,df2],axis=0)\n",
        "print(\"Row-wiseconcatenation:\")\n",
        "print(combined_rows)\n",
        " #Column-wiseconcatenation\n",
        "combined_cols=pd.concat([df1,df2],axis=1)\n",
        "print(\"\\nColumn-wiseconcatenation:\")\n",
        "print(combined_cols)\n",
        "\n",
        "  # Sample DataFrames\n",
        "df1 = pd.DataFrame({'ID': [1, 2, 3], 'Name': ['Alice', 'Bob', 'Charlie']})\n",
        "df2 = pd.DataFrame({'ID': [2, 3, 4], 'Score': [85, 90, 88]})\n",
        " # Inner join\n",
        "inner_merged = pd.merge(df1, df2, on='ID', how='inner')\n",
        "print(\"Inner Join:\")\n",
        "print(inner_merged)\n",
        " # Left join\n",
        "left_merged = pd.merge(df1, df2, on='ID', how='left')\n",
        "print(\"\\nLeft Join:\")\n",
        "print(left_merged)\n",
        " # Outer join\n",
        "outer_merged = pd.merge(df1, df2, on='ID', how='outer')\n",
        "print(\"\\nOuter Join:\")\n",
        "print(outer_merged)"
      ],
      "metadata": {
        "colab": {
          "base_uri": "https://localhost:8080/"
        },
        "id": "6Ot1tld8BQMn",
        "outputId": "7b00986d-3a83-45f4-c020-dd09e77029f0"
      },
      "execution_count": null,
      "outputs": [
        {
          "output_type": "stream",
          "name": "stdout",
          "text": [
            "Row-wiseconcatenation:\n",
            "   A  B\n",
            "0  1  3\n",
            "1  2  4\n",
            "0  5  7\n",
            "1  6  8\n",
            "\n",
            "Column-wiseconcatenation:\n",
            "   A  B  A  B\n",
            "0  1  3  5  7\n",
            "1  2  4  6  8\n",
            "Inner Join:\n",
            "   ID     Name  Score\n",
            "0   2      Bob     85\n",
            "1   3  Charlie     90\n",
            "\n",
            "Left Join:\n",
            "   ID     Name  Score\n",
            "0   1    Alice    NaN\n",
            "1   2      Bob   85.0\n",
            "2   3  Charlie   90.0\n",
            "\n",
            "Outer Join:\n",
            "   ID     Name  Score\n",
            "0   1    Alice    NaN\n",
            "1   2      Bob   85.0\n",
            "2   3  Charlie   90.0\n",
            "3   4      NaN   88.0\n"
          ]
        }
      ]
    },
    {
      "cell_type": "markdown",
      "source": [
        "**To- Do- Task**"
      ],
      "metadata": {
        "id": "ijwgEKCBB2Vl"
      }
    },
    {
      "cell_type": "markdown",
      "source": [
        "**Problem1**"
      ],
      "metadata": {
        "id": "DRMOj4FNHpV2"
      }
    },
    {
      "cell_type": "code",
      "execution_count": 6,
      "metadata": {
        "id": "oDW_ZMJMB_H3",
        "colab": {
          "base_uri": "https://localhost:8080/"
        },
        "outputId": "030b2648-a396-4151-b1c8-11010818a714"
      },
      "outputs": [
        {
          "output_type": "stream",
          "name": "stdout",
          "text": [
            "Object columns: Index(['job', 'marital', 'education', 'default', 'housing', 'loan', 'contact',\n",
            "       'month', 'poutcome', 'y'],\n",
            "      dtype='object')\n",
            "Unique values in object columns: {'job': array(['management', 'technician', 'entrepreneur', 'blue-collar',\n",
            "       'unknown', 'retired', 'admin.', 'services', 'self-employed',\n",
            "       'unemployed', 'housemaid', 'student'], dtype=object), 'marital': array(['married', 'single', 'divorced'], dtype=object), 'education': array(['tertiary', 'secondary', 'unknown', 'primary'], dtype=object), 'default': array(['no', 'yes'], dtype=object), 'housing': array(['yes', 'no'], dtype=object), 'loan': array(['no', 'yes'], dtype=object), 'contact': array(['unknown', 'cellular', 'telephone'], dtype=object), 'month': array(['may', 'jun', 'jul', 'aug', 'oct', 'nov', 'dec', 'jan', 'feb',\n",
            "       'mar', 'apr', 'sep'], dtype=object), 'poutcome': array(['unknown', 'failure', 'other', 'success'], dtype=object), 'y': array(['no', 'yes'], dtype=object)}\n",
            "Null values in each column:\n",
            " age          0\n",
            "job          0\n",
            "marital      0\n",
            "education    0\n",
            "default      0\n",
            "balance      0\n",
            "housing      0\n",
            "loan         0\n",
            "contact      0\n",
            "day          0\n",
            "month        0\n",
            "duration     0\n",
            "campaign     0\n",
            "pdays        0\n",
            "previous     0\n",
            "poutcome     0\n",
            "y            0\n",
            "dtype: int64\n",
            "\n",
            "Summary statistics:\n",
            "                 age        balance           day      duration      campaign  \\\n",
            "count  45211.000000   45211.000000  45211.000000  45211.000000  45211.000000   \n",
            "mean      40.936210    1362.272058     15.806419    258.163080      2.763841   \n",
            "std       10.618762    3044.765829      8.322476    257.527812      3.098021   \n",
            "min       18.000000   -8019.000000      1.000000      0.000000      1.000000   \n",
            "25%       33.000000      72.000000      8.000000    103.000000      1.000000   \n",
            "50%       39.000000     448.000000     16.000000    180.000000      2.000000   \n",
            "75%       48.000000    1428.000000     21.000000    319.000000      3.000000   \n",
            "max       95.000000  102127.000000     31.000000   4918.000000     63.000000   \n",
            "\n",
            "              pdays      previous  \n",
            "count  45211.000000  45211.000000  \n",
            "mean      40.197828      0.580323  \n",
            "std      100.128746      2.303441  \n",
            "min       -1.000000      0.000000  \n",
            "25%       -1.000000      0.000000  \n",
            "50%       -1.000000      0.000000  \n",
            "75%       -1.000000      0.000000  \n",
            "max      871.000000    275.000000  \n"
          ]
        }
      ],
      "source": [
        "import pandas as pd\n",
        "df =pd.read_csv(\"/content/drive/MyDrive/week2/Datasets/Datasets/bank .csv\")\n",
        "df\n",
        "\n",
        "object_columns = df.select_dtypes(include=['object']).columns\n",
        "unique_values = {col: df[col].unique() for col in object_columns}\n",
        "\n",
        "\n",
        "null_counts = df.isnull().sum()\n",
        "\n",
        "print(\"Object columns:\", object_columns)\n",
        "print(\"Unique values in object columns:\", unique_values)\n",
        "print(\"Null values in each column:\\n\", null_counts)\n",
        "\n",
        "numeric_df = df.drop(columns=object_columns)\n",
        "output_file = \"banknumericdata.csv\"\n",
        "numeric_df.to_csv(output_file, index=False)\n",
        "\n",
        "numeric_data = pd.read_csv(output_file)\n",
        "summary_stats = numeric_data.describe()\n",
        "\n",
        "print(\"\\nSummary statistics:\\n\", summary_stats)\n",
        "\n"
      ]
    },
    {
      "cell_type": "markdown",
      "source": [
        "**Problem2**"
      ],
      "metadata": {
        "id": "ojKU19KAHK1I"
      }
    },
    {
      "cell_type": "code",
      "source": [
        "import pandas as pd\n",
        "\n",
        "# 1. Load the dataset\n",
        "file_path = \"/content/drive/MyDrive/week2/Datasets/Datasets/medical_students_dataset.csv\"\n",
        "medical_student_df = pd.read_csv(file_path)\n",
        "\n",
        "# 2. Check info of the DataFrame and identify columns with missing values\n",
        "print(\"Dataset Info:\")\n",
        "print(medical_student_df.info())\n",
        "\n",
        "print(\"\\nMissing Values in Each Column:\")\n",
        "missing_values = medical_student_df.isnull().sum()\n",
        "print(missing_values)\n",
        "\n",
        "# 3. Handle missing values\n",
        "for column in medical_student_df.columns:\n",
        "    if medical_student_df[column].isnull().sum() > 0:\n",
        "        if medical_student_df[column].dtype == \"object\":\n",
        "            most_frequent = medical_student_df[column].mode()[0]\n",
        "            medical_student_df[column].fillna(most_frequent, inplace=True)\n",
        "        else:  # Numerical column\n",
        "            # Fill with the mean\n",
        "            mean_value = medical_student_df[column].mean()\n",
        "            medical_student_df[column].fillna(mean_value, inplace=True)\n",
        "\n",
        "# Verify missing values are handled\n",
        "print(\"\\nMissing Values After Imputation:\")\n",
        "print(medical_student_df.isnull().sum())\n",
        "\n",
        "# 4. Check for duplicate values\n",
        "duplicates = medical_student_df.duplicated().sum()\n",
        "print(f\"\\nNumber of Duplicate Rows: {duplicates}\")\n",
        "\n",
        "# Drop duplicate rows if any\n",
        "if duplicates > 0:\n",
        "    medical_student_df.drop_duplicates(inplace=True)\n",
        "    print(\"Duplicate rows have been removed.\")\n",
        "\n",
        "# Save the cleaned dataset to a new file (optional)\n",
        "medical_student_df.to_csv(\"cleaned_medical_student.csv\", index=False)\n",
        "\n",
        "print(\"\\nData Cleaning Completed. Cleaned dataset saved as 'cleaned_medical_student.csv'.\")\n"
      ],
      "metadata": {
        "id": "MtUa6FNzG4TZ",
        "colab": {
          "base_uri": "https://localhost:8080/"
        },
        "outputId": "8b3df170-7c35-40b1-c7a1-c2e8c9ddb3f1"
      },
      "execution_count": 7,
      "outputs": [
        {
          "output_type": "stream",
          "name": "stdout",
          "text": [
            "Dataset Info:\n",
            "<class 'pandas.core.frame.DataFrame'>\n",
            "RangeIndex: 200000 entries, 0 to 199999\n",
            "Data columns (total 13 columns):\n",
            " #   Column          Non-Null Count   Dtype  \n",
            "---  ------          --------------   -----  \n",
            " 0   Student ID      180000 non-null  float64\n",
            " 1   Age             180000 non-null  float64\n",
            " 2   Gender          180000 non-null  object \n",
            " 3   Height          180000 non-null  float64\n",
            " 4   Weight          180000 non-null  float64\n",
            " 5   Blood Type      180000 non-null  object \n",
            " 6   BMI             180000 non-null  float64\n",
            " 7   Temperature     180000 non-null  float64\n",
            " 8   Heart Rate      180000 non-null  float64\n",
            " 9   Blood Pressure  180000 non-null  float64\n",
            " 10  Cholesterol     180000 non-null  float64\n",
            " 11  Diabetes        180000 non-null  object \n",
            " 12  Smoking         180000 non-null  object \n",
            "dtypes: float64(9), object(4)\n",
            "memory usage: 19.8+ MB\n",
            "None\n",
            "\n",
            "Missing Values in Each Column:\n",
            "Student ID        20000\n",
            "Age               20000\n",
            "Gender            20000\n",
            "Height            20000\n",
            "Weight            20000\n",
            "Blood Type        20000\n",
            "BMI               20000\n",
            "Temperature       20000\n",
            "Heart Rate        20000\n",
            "Blood Pressure    20000\n",
            "Cholesterol       20000\n",
            "Diabetes          20000\n",
            "Smoking           20000\n",
            "dtype: int64\n"
          ]
        },
        {
          "output_type": "stream",
          "name": "stderr",
          "text": [
            "<ipython-input-7-7d429ef0a0d4>:24: FutureWarning: A value is trying to be set on a copy of a DataFrame or Series through chained assignment using an inplace method.\n",
            "The behavior will change in pandas 3.0. This inplace method will never work because the intermediate object on which we are setting values always behaves as a copy.\n",
            "\n",
            "For example, when doing 'df[col].method(value, inplace=True)', try using 'df.method({col: value}, inplace=True)' or df[col] = df[col].method(value) instead, to perform the operation inplace on the original object.\n",
            "\n",
            "\n",
            "  medical_student_df[column].fillna(mean_value, inplace=True)\n",
            "<ipython-input-7-7d429ef0a0d4>:20: FutureWarning: A value is trying to be set on a copy of a DataFrame or Series through chained assignment using an inplace method.\n",
            "The behavior will change in pandas 3.0. This inplace method will never work because the intermediate object on which we are setting values always behaves as a copy.\n",
            "\n",
            "For example, when doing 'df[col].method(value, inplace=True)', try using 'df.method({col: value}, inplace=True)' or df[col] = df[col].method(value) instead, to perform the operation inplace on the original object.\n",
            "\n",
            "\n",
            "  medical_student_df[column].fillna(most_frequent, inplace=True)\n"
          ]
        },
        {
          "output_type": "stream",
          "name": "stdout",
          "text": [
            "\n",
            "Missing Values After Imputation:\n",
            "Student ID        0\n",
            "Age               0\n",
            "Gender            0\n",
            "Height            0\n",
            "Weight            0\n",
            "Blood Type        0\n",
            "BMI               0\n",
            "Temperature       0\n",
            "Heart Rate        0\n",
            "Blood Pressure    0\n",
            "Cholesterol       0\n",
            "Diabetes          0\n",
            "Smoking           0\n",
            "dtype: int64\n",
            "\n",
            "Number of Duplicate Rows: 12572\n",
            "Duplicate rows have been removed.\n",
            "\n",
            "Data Cleaning Completed. Cleaned dataset saved as 'cleaned_medical_student.csv'.\n"
          ]
        }
      ]
    },
    {
      "cell_type": "markdown",
      "source": [
        "**Exercises- Data Cleaning and Transformations with ”Titanic Dataset”**"
      ],
      "metadata": {
        "id": "3AQiY3kSEBqk"
      }
    },
    {
      "cell_type": "markdown",
      "source": [
        "**Problem- 1**"
      ],
      "metadata": {
        "id": "3iOzt5PsEKll"
      }
    },
    {
      "cell_type": "code",
      "source": [
        "import pandas as pd\n",
        "\n",
        "# Load the Titanic dataset\n",
        "file_path = \"/content/drive/MyDrive/week2/Datasets/Datasets/Titanic-Dataset.csv\"\n",
        "titanic_df = pd.read_csv(file_path)\n",
        "\n",
        "subset_df = titanic_df[['Name', 'Pclass', 'Sex', 'Age', 'Fare', 'Survived']]\n",
        "\n",
        "first_class_df = subset_df[subset_df['Pclass'] == 1]\n",
        "\n",
        "fare_mean = first_class_df['Fare'].mean()\n",
        "fare_median = first_class_df['Fare'].median()\n",
        "fare_max = first_class_df['Fare'].max()\n",
        "fare_min = first_class_df['Fare'].min()\n",
        "\n",
        "# Display results\n",
        "print(\"Statistics for 'Fare' column (First-Class Passengers):\")\n",
        "print(f\"Mean: {fare_mean}\")\n",
        "print(f\"Median: {fare_median}\")\n",
        "print(f\"Maximum: {fare_max}\")\n",
        "print(f\"Minimum: {fare_min}\")\n"
      ],
      "metadata": {
        "colab": {
          "base_uri": "https://localhost:8080/"
        },
        "id": "ZvzZFAO5D4s-",
        "outputId": "eaa1ae49-209e-44d7-edb3-6d2b99cbaed1"
      },
      "execution_count": 8,
      "outputs": [
        {
          "output_type": "stream",
          "name": "stdout",
          "text": [
            "Statistics for 'Fare' column (First-Class Passengers):\n",
            "Mean: 84.1546875\n",
            "Median: 60.287499999999994\n",
            "Maximum: 512.3292\n",
            "Minimum: 0.0\n"
          ]
        }
      ]
    },
    {
      "cell_type": "markdown",
      "source": [
        "**Problem- 2**"
      ],
      "metadata": {
        "id": "3HR_QiDdEwr5"
      }
    },
    {
      "cell_type": "code",
      "source": [
        "\n",
        "null_values_age = first_class_df['Age'].isnull().sum()\n",
        "print(f\"Number of null values in the 'Age' column: {null_values_age}\")\n",
        "\n",
        "cleaned_df = first_class_df.dropna(subset=['Age'])\n",
        "\n",
        "null_values_after_dropping = cleaned_df['Age'].isnull().sum()\n",
        "print(f\"Number of null values in the 'Age' column after dropping: {null_values_after_dropping}\")\n"
      ],
      "metadata": {
        "colab": {
          "base_uri": "https://localhost:8080/"
        },
        "id": "cwsxAxG-ElBh",
        "outputId": "3c12ce92-614a-4005-e480-41e82ca8b531"
      },
      "execution_count": null,
      "outputs": [
        {
          "output_type": "stream",
          "name": "stdout",
          "text": [
            "Number of null values in the 'Age' column: 30\n",
            "Number of null values in the 'Age' column after dropping: 0\n"
          ]
        }
      ]
    },
    {
      "cell_type": "markdown",
      "source": [
        "Problem- 3"
      ],
      "metadata": {
        "id": "VsLTN4OwFMbP"
      }
    },
    {
      "cell_type": "code",
      "source": [
        "# 1.\n",
        "embarked_encoded = pd.get_dummies(titanic_df['Embarked'], prefix='Embarked')\n",
        "\n",
        "# 2.\n",
        "titanic_df = pd.concat([titanic_df, embarked_encoded], axis=1)\n",
        "\n",
        "# 3.\n",
        "titanic_df.drop(columns=['Embarked'], inplace=True)\n",
        "\n",
        "# 4.\n",
        "print(\"Modified DataFrame with one-hot encoded 'Embarked' columns:\")\n",
        "print(titanic_df.head())\n"
      ],
      "metadata": {
        "colab": {
          "base_uri": "https://localhost:8080/"
        },
        "id": "gsyeliJdE8Qq",
        "outputId": "ee704281-ccd4-453e-db70-8abe94a6082b"
      },
      "execution_count": null,
      "outputs": [
        {
          "output_type": "stream",
          "name": "stdout",
          "text": [
            "Modified DataFrame with one-hot encoded 'Embarked' columns:\n",
            "   PassengerId  Survived  Pclass  \\\n",
            "0            1         0       3   \n",
            "1            2         1       1   \n",
            "2            3         1       3   \n",
            "3            4         1       1   \n",
            "4            5         0       3   \n",
            "\n",
            "                                                Name     Sex   Age  SibSp  \\\n",
            "0                            Braund, Mr. Owen Harris    male  22.0      1   \n",
            "1  Cumings, Mrs. John Bradley (Florence Briggs Th...  female  38.0      1   \n",
            "2                             Heikkinen, Miss. Laina  female  26.0      0   \n",
            "3       Futrelle, Mrs. Jacques Heath (Lily May Peel)  female  35.0      1   \n",
            "4                           Allen, Mr. William Henry    male  35.0      0   \n",
            "\n",
            "   Parch            Ticket     Fare Cabin  Embarked_C  Embarked_Q  Embarked_S  \n",
            "0      0         A/5 21171   7.2500   NaN       False       False        True  \n",
            "1      0          PC 17599  71.2833   C85        True       False       False  \n",
            "2      0  STON/O2. 3101282   7.9250   NaN       False       False        True  \n",
            "3      0            113803  53.1000  C123       False       False        True  \n",
            "4      0            373450   8.0500   NaN       False       False        True  \n"
          ]
        }
      ]
    },
    {
      "cell_type": "markdown",
      "source": [
        "Problem- 4"
      ],
      "metadata": {
        "id": "o-MCKt65Ftur"
      }
    },
    {
      "cell_type": "code",
      "source": [
        "import matplotlib.pyplot as plt\n",
        "import seaborn as sns\n",
        "\n",
        "\n",
        "mean_survival_rates = titanic_df.groupby('Sex')['Survived'].mean()\n",
        "print(\"Mean Survival Rates by Gender:\")\n",
        "print(mean_survival_rates)\n",
        "\n",
        "plt.figure(figsize=(10, 6))\n",
        "sns.barplot(x='Sex', y='Survived', data=titanic_df, ci=None, palette='Set2')\n",
        "\n",
        "plt.title('Mean Survival Rate by Gender', fontsize=16)\n",
        "plt.xlabel('Gender', fontsize=12)\n",
        "plt.ylabel('Survival Rate', fontsize=12)\n",
        "plt.ylim(0, 1)  # Survival rate ranges between 0 and 1\n",
        "plt.grid(axis='y', linestyle='--', alpha=0.7)\n",
        "plt.show()\n"
      ],
      "metadata": {
        "colab": {
          "base_uri": "https://localhost:8080/",
          "height": 850
        },
        "id": "CLnJE5OyFnYy",
        "outputId": "c14291e4-e0ca-4ee3-a7da-15a9a47dc080"
      },
      "execution_count": null,
      "outputs": [
        {
          "output_type": "stream",
          "name": "stdout",
          "text": [
            "Mean Survival Rates by Gender:\n",
            "Sex\n",
            "female    0.742038\n",
            "male      0.188908\n",
            "Name: Survived, dtype: float64\n"
          ]
        },
        {
          "output_type": "stream",
          "name": "stderr",
          "text": [
            "<ipython-input-6-e0b00cba30fd>:11: FutureWarning: \n",
            "\n",
            "The `ci` parameter is deprecated. Use `errorbar=None` for the same effect.\n",
            "\n",
            "  sns.barplot(x='Sex', y='Survived', data=titanic_df, ci=None, palette='Set2')\n",
            "<ipython-input-6-e0b00cba30fd>:11: FutureWarning: \n",
            "\n",
            "Passing `palette` without assigning `hue` is deprecated and will be removed in v0.14.0. Assign the `x` variable to `hue` and set `legend=False` for the same effect.\n",
            "\n",
            "  sns.barplot(x='Sex', y='Survived', data=titanic_df, ci=None, palette='Set2')\n"
          ]
        },
        {
          "output_type": "display_data",
          "data": {
            "text/plain": [
              "<Figure size 1000x600 with 1 Axes>"
            ],
            "image/png": "[encoded data removed]"
          },
          "metadata": {}
        }
      ]
    },
    {
      "cell_type": "markdown",
      "source": [
        " Problem- 5"
      ],
      "metadata": {
        "id": "pRT79JM4F_ij"
      }
    },
    {
      "cell_type": "code",
      "source": [
        "\n",
        "import seaborn as sns\n",
        "\n",
        "plt.figure(figsize=(12, 8))\n",
        "sns.barplot(\n",
        "    x='Sex',\n",
        "    y='Survived',\n",
        "    hue='Embarked_C',  # Use one of the one-hot encoded columns, like 'Embarked_C', 'Embarked_Q', or 'Embarked_S'\n",
        "    data=titanic_df,\n",
        "    ci=None,\n",
        "    palette='Set2'\n",
        ")\n",
        "plt.title('Survival Rate by Gender and Port of Embarkation', fontsize=16)\n",
        "plt.xlabel('Gender', fontsize=12)\n",
        "plt.ylabel('Survival Rate', fontsize=12)\n",
        "plt.ylim(0, 1)\n",
        "plt.legend(title='Port of Embarkation', labels=['Cherbourg', 'Queenstown', 'Southampton'])  # Adjust labels accordingly\n",
        "plt.grid(axis='y', linestyle='--', alpha=0.7)\n",
        "plt.show()\n",
        "\n",
        "\n",
        "\n"
      ],
      "metadata": {
        "colab": {
          "base_uri": "https://localhost:8080/",
          "height": 811
        },
        "id": "eL3Hc9FoF6SJ",
        "outputId": "5f0f8df4-7e20-42e8-bb45-369ca9277d54"
      },
      "execution_count": null,
      "outputs": [
        {
          "output_type": "stream",
          "name": "stderr",
          "text": [
            "<ipython-input-13-254016e449c7>:4: FutureWarning: \n",
            "\n",
            "The `ci` parameter is deprecated. Use `errorbar=None` for the same effect.\n",
            "\n",
            "  sns.barplot(\n"
          ]
        },
        {
          "output_type": "display_data",
          "data": {
            "text/plain": [
              "<Figure size 1200x800 with 1 Axes>"
            ],
            "image/png": "[encoded data removed]"
          },
          "metadata": {}
        }
      ]
    },
    {
      "cell_type": "markdown",
      "source": [
        "Problem-6"
      ],
      "metadata": {
        "id": "ELxvBgTfG25F"
      }
    },
    {
      "cell_type": "code",
      "source": [
        "\n",
        "titanic_df['AgeGroup'] = pd.qcut(titanic_df['Age'], q=5)\n",
        "\n",
        "survival_rates = titanic_df.groupby(['Pclass', 'AgeGroup'])['Survived'].mean().unstack()\n",
        "\n",
        "print(\"Mean Survival Rates by Pclass and AgeGroup:\")\n",
        "print(survival_rates)\n",
        "\n",
        "plt.figure(figsize=(12, 8))\n",
        "survival_rates.plot(kind='bar', figsize=(12, 8), colormap='viridis', stacked=True)\n",
        "\n",
        "plt.title('Survival Rates by Age Group and Passenger Class (Pclass)', fontsize=16)\n",
        "plt.xlabel('Passenger Class (Pclass)', fontsize=12)\n",
        "plt.ylabel('Survival Rate', fontsize=12)\n",
        "plt.legend(title='Age Group', bbox_to_anchor=(1.05, 1), loc='upper left')\n",
        "plt.grid(axis='y', linestyle='--', alpha=0.7)\n",
        "plt.tight_layout()\n",
        "plt.show()\n"
      ],
      "metadata": {
        "colab": {
          "base_uri": "https://localhost:8080/",
          "height": 1000
        },
        "id": "B2dhjlThGWLT",
        "outputId": "c96e53b3-8ddb-4160-c416-ccbe4a7f092d"
      },
      "execution_count": null,
      "outputs": [
        {
          "output_type": "stream",
          "name": "stderr",
          "text": [
            "<ipython-input-10-08ae382980a6>:5: FutureWarning: The default of observed=False is deprecated and will be changed to True in a future version of pandas. Pass observed=False to retain current behavior or observed=True to adopt the future default and silence this warning.\n",
            "  survival_rates = titanic_df.groupby(['Pclass', 'AgeGroup'])['Survived'].mean().unstack()\n"
          ]
        },
        {
          "output_type": "stream",
          "name": "stdout",
          "text": [
            "Mean Survival Rates by Pclass and AgeGroup:\n",
            "AgeGroup  (0.419, 19.0]  (19.0, 25.0]  (25.0, 31.8]  (31.8, 41.0]  \\\n",
            "Pclass                                                              \n",
            "1              0.809524      0.761905      0.666667      0.777778   \n",
            "2              0.742857      0.400000      0.416667      0.461538   \n",
            "3              0.333333      0.197674      0.283582      0.166667   \n",
            "\n",
            "AgeGroup  (41.0, 80.0]  \n",
            "Pclass                  \n",
            "1             0.506667  \n",
            "2             0.363636  \n",
            "3             0.088235  \n"
          ]
        },
        {
          "output_type": "display_data",
          "data": {
            "text/plain": [
              "<Figure size 1200x800 with 0 Axes>"
            ]
          },
          "metadata": {}
        },
        {
          "output_type": "display_data",
          "data": {
            "text/plain": [
              "<Figure size 1200x800 with 1 Axes>"
            ],
            "image/png": "[encoded data removed]"
          },
          "metadata": {}
        }
      ]
    }
  ]
}